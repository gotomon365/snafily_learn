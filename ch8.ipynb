{
 "cells": [
  {
   "cell_type": "code",
   "execution_count": null,
   "metadata": {},
   "outputs": [],
   "source": [
    "# «The length of the segment»\n",
    "import math\n",
    "\n",
    "a = float(input())\n",
    "b = float(input())\n",
    "c = float(input())\n",
    "d = float(input())\n",
    "\n",
    "d_x = a - c\n",
    "d_y = b - d\n",
    "\n",
    "print(math.sqrt(d_x**2 + d_y**2))"
   ]
  },
  {
   "cell_type": "code",
   "execution_count": null,
   "metadata": {},
   "outputs": [],
   "source": [
    "# «Negative exponent»\n",
    "def pow(a, b):\n",
    "    res = 1;\n",
    "    if b > 0:\n",
    "        for i in range(b):\n",
    "            res *= a\n",
    "            \n",
    "    else:\n",
    "        for i in range(abs(b)):\n",
    "            res /= a\n",
    "            \n",
    "    return res\n",
    "    \n",
    "print(pow(float(input()), int(input())))"
   ]
  },
  {
   "cell_type": "code",
   "execution_count": null,
   "metadata": {},
   "outputs": [],
   "source": [
    "# «Uppercase»\n",
    "def capitalize(word):\n",
    "    first_letter_small = word[0]\n",
    "    first_letter_big = chr(ord(first_letter_small) - ord('a') + ord('A'))\n",
    "    return first_letter_big + word[1:]\n",
    "\n",
    "source = input().split()\n",
    "res = []\n",
    "for word in source:\n",
    "    res.append(capitalize(word))\n",
    "print(' '.join(res))"
   ]
  },
  {
   "cell_type": "code",
   "execution_count": null,
   "metadata": {},
   "outputs": [],
   "source": [
    "# «Exponentiation»\n",
    "def power(a, b):\n",
    "    res = 1\n",
    "    for i in range(b):\n",
    "        res *= a\n",
    "    \n",
    "    return res\n",
    "    \n",
    "print(power(float(input()), int(input(()))))"
   ]
  },
  {
   "cell_type": "code",
   "execution_count": null,
   "metadata": {},
   "outputs": [],
   "source": [
    "# «Reverse the sequence»\n",
    "x = int(input())\n",
    "list1 = []\n",
    "while x != 0:\n",
    "    list1.append(x)\n",
    "    x = int(input())\n",
    "    \n",
    "list1.append(0)\n",
    "\n",
    "for i in range(len(list1)-1, 0 -1, -1):\n",
    "    print(list1[i])"
   ]
  },
  {
   "cell_type": "code",
   "execution_count": null,
   "metadata": {},
   "outputs": [],
   "source": [
    "# «Fibonacci numbers»\n",
    "def fib(n):\n",
    "    if n <= 2:\n",
    "        return 1\n",
    "    else: \n",
    "        return fib(n-1) + fib(n -2) \n",
    "    \n",
    "print(fib(int(input())))"
   ]
  }
 ],
 "metadata": {
  "kernelspec": {
   "display_name": "Python 3",
   "language": "python",
   "name": "python3"
  },
  "language_info": {
   "codemirror_mode": {
    "name": "ipython",
    "version": 3
   },
   "file_extension": ".py",
   "mimetype": "text/x-python",
   "name": "python",
   "nbconvert_exporter": "python",
   "pygments_lexer": "ipython3",
   "version": "3.8.3"
  }
 },
 "nbformat": 4,
 "nbformat_minor": 4
}
