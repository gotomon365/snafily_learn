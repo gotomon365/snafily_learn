{
 "cells": [
  {
   "cell_type": "code",
   "execution_count": null,
   "metadata": {},
   "outputs": [],
   "source": [
    "# «The number of distinct numbers»\n",
    "s =input().split()\n",
    "set_s = set(s)\n",
    "print(len(set_s))"
   ]
  },
  {
   "cell_type": "code",
   "execution_count": null,
   "metadata": {},
   "outputs": [],
   "source": [
    "# «The number of equal numbers»\n",
    "a = [int(i) for i in input().split()]\n",
    "b = [int(i) for i in input().split()]\n",
    "z = set(a).intersection(set(b))\n",
    "\n",
    "print(len(z))"
   ]
  },
  {
   "cell_type": "code",
   "execution_count": null,
   "metadata": {},
   "outputs": [],
   "source": [
    "# «The intersection of sets»\n",
    "a = [int(i) for i in input().split()]\n",
    "b = [int(i) for i in input().split()]\n",
    "z = set(a).intersection(set(b))\n",
    "list1 = list(z)\n",
    "list1.sort()\n",
    "\n",
    "for i in list1:\n",
    "    print(i, end=' ')"
   ]
  },
  {
   "cell_type": "code",
   "execution_count": null,
   "metadata": {},
   "outputs": [],
   "source": [
    "# «Has the number been encountered before»\n",
    "a = [int(i) for i in input().split()]\n",
    "\n",
    "\n",
    "z = {' '}\n",
    "\n",
    "cnt = 0\n",
    "for i in a:\n",
    "    if i in z:\n",
    "        print(\"YES\")\n",
    "    else:\n",
    "        print(\"NO\")\n",
    "    z.add(i)"
   ]
  },
  {
   "cell_type": "code",
   "execution_count": null,
   "metadata": {},
   "outputs": [],
   "source": [
    "# «Cubes»\n",
    "a ,b = input().split()\n",
    "a = int(a)\n",
    "b = int(b)\n",
    "\n",
    "set_a = set()\n",
    "set_b = set()\n",
    "\n",
    "for i in range(a):\n",
    "    set_a.add(int(input()))\n",
    "    \n",
    "for i in range(b):\n",
    "    set_b.add(int(input()))\n",
    "\n",
    "# intersection\n",
    "l = list(set_a.intersection(set_b))\n",
    "l.sort()\n",
    "print(len(l))\n",
    "for i in l:\n",
    "    print(i)\n",
    "    \n",
    "# alice\n",
    "l = list(set_a -set_b)\n",
    "l.sort()\n",
    "print(len(l))\n",
    "for i in l:\n",
    "    print(i)\n",
    "\n",
    "\n",
    "# bob\n",
    "l = list(set_b -set_a)\n",
    "l.sort()\n",
    "print(len(l))\n",
    "for i in l:\n",
    "    print(i)"
   ]
  },
  {
   "cell_type": "code",
   "execution_count": null,
   "metadata": {},
   "outputs": [],
   "source": [
    "# «The number of distinct words in some text»\n",
    "n = int(input())\n",
    "a = []\n",
    "for i in range(n):\n",
    "    for word in input().split():\n",
    "        a.append(word)\n",
    "        \n",
    "print(len(set(a)))"
   ]
  },
  {
   "cell_type": "code",
   "execution_count": null,
   "metadata": {},
   "outputs": [],
   "source": [
    "# «Guess the number»\n",
    "n = int(input())\n",
    "res = set()\n",
    "for i in range(1, n+1):\n",
    "    res.add(i)\n",
    "receive = set(input().split())\n",
    "\n",
    "s = input()\n",
    "\n",
    "while s != \"HELP\":\n",
    "    if s == \"YES\":\n",
    "        res = res.intersection(receive)\n",
    "        receive.clear()\n",
    "    elif s ==\"NO\":\n",
    "        res -= receive\n",
    "        receive.clear()\n",
    "    else:\n",
    "        receive = set(s.split())\n",
    "    s = input()\n",
    "\n",
    "list1 = list(res)\n",
    "list1.sort()\n",
    "for i in list1:\n",
    "    print(i, end = ' ')"
   ]
  },
  {
   "cell_type": "code",
   "execution_count": null,
   "metadata": {},
   "outputs": [],
   "source": [
    "# «Polyglots»\n",
    "n = int(input())\n",
    "l_res = []\n",
    "\n",
    "for i in range(n):\n",
    "    n2 = int(input())\n",
    "    s_language = set()\n",
    "    for j in range (n2):\n",
    "        s_language.add(input())\n",
    "    l_res.append(s_language)\n",
    "    \n",
    "l_max = []\n",
    "l_max = max(l_res)\n",
    "l_min = []\n",
    "l_min = min(l_res)\n",
    "\n",
    "print(len(l_min))\n",
    "l = list(l_min)\n",
    "l.sort()\n",
    "for i in l:\n",
    "    print(i)\n",
    "    \n",
    "print(len(l_max))\n",
    "l = list(l_max)\n",
    "l.sort()\n",
    "for i in l:\n",
    "    print(i)"
   ]
  }
 ],
 "metadata": {
  "kernelspec": {
   "display_name": "Python 3",
   "language": "python",
   "name": "python3"
  },
  "language_info": {
   "codemirror_mode": {
    "name": "ipython",
    "version": 3
   },
   "file_extension": ".py",
   "mimetype": "text/x-python",
   "name": "python",
   "nbconvert_exporter": "python",
   "pygments_lexer": "ipython3",
   "version": "3.8.3"
  }
 },
 "nbformat": 4,
 "nbformat_minor": 4
}
