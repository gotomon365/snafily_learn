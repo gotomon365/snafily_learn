{
 "cells": [
  {
   "cell_type": "code",
   "execution_count": null,
   "metadata": {},
   "outputs": [],
   "source": [
    "# «Maximum»\n",
    "m_n = [int(i) for i in input().split()]\n",
    "list1 =[]\n",
    "for _ in range(m_n[0]):\n",
    "    list1.append([float(i) for i in input().split()])\n",
    "    \n",
    "max_row = 0\n",
    "max_col = 0\n",
    "max = list1[0][0]\n",
    "for i in range(m_n[0]):\n",
    "    for j in range(m_n[1]):\n",
    "        if list1[i][j] > max:\n",
    "            max = list1[i][j]\n",
    "            max_row = i\n",
    "            max_col = j\n",
    "            \n",
    "print(max_row, max_col)"
   ]
  },
  {
   "cell_type": "code",
   "execution_count": null,
   "metadata": {},
   "outputs": [],
   "source": [
    "# «Snowflake»\n",
    "def snowflake(n):\n",
    "    for i in range(n):\n",
    "        for j in range(n):\n",
    "            if i == j or (i + j) == n-1 or (i == (n // 2)) or j == n //2:\n",
    "                print('* ',end ='')\n",
    "            else:\n",
    "                print('. ',end ='')\n",
    "        print()\n",
    "\n",
    "snowflake(int(input()))"
   ]
  },
  {
   "cell_type": "code",
   "execution_count": null,
   "metadata": {},
   "outputs": [],
   "source": [
    "# «Chess board»\n",
    "def chessboard(m, n):\n",
    "    for i in range(m):\n",
    "        for j in range( n):\n",
    "            if (-1) ** (i + j) > 0:\n",
    "                print('. ', end='')\n",
    "\n",
    "            else:\n",
    "                print('* ', end='')\n",
    "        print()\n",
    "\n",
    "\n",
    "m_n = [int(i) for i in input().split()]\n",
    "chessboard(m_n[0], m_n[1])"
   ]
  },
  {
   "cell_type": "code",
   "execution_count": null,
   "metadata": {},
   "outputs": [],
   "source": [
    "# «The diagonal parallel to the main»\n",
    "a = []\n",
    "b = []\n",
    "n = int(input())\n",
    "for i in range(n):\n",
    "    a.append(i) \n",
    "result = []\n",
    "\n",
    "for i in range(n):\n",
    "    b = a[1:i+1]\n",
    "    result.append(b[::-1]+ a[0:n-i])\n",
    "    \n",
    "    \n",
    "for i in range(n):\n",
    "    for j in range(n):\n",
    "        print(result[i][j], end =' ')\n",
    "    print()"
   ]
  },
  {
   "cell_type": "code",
   "execution_count": null,
   "metadata": {},
   "outputs": [],
   "source": [
    "#  «Side diagonal»\n",
    "n = int(input())\n",
    "\n",
    "a = [[0 for j in range(n)] for i in range(n)]\n",
    "for i in range(n):\n",
    "    for j in range(n):\n",
    "        if (i + j) == n -1:\n",
    "            a[i][j] = 1\n",
    "        if  i + j >= n :\n",
    "            a[i][j] = 2\n",
    "\n",
    "for row in a:\n",
    "    print(' '.join([str(i) for i in row]))"
   ]
  },
  {
   "cell_type": "code",
   "execution_count": null,
   "metadata": {},
   "outputs": [],
   "source": [
    "# «Swap the columns»\n",
    "m, n = [int(i) for i in input().split()]\n",
    "\n",
    "a =[[int(j) for j in input().split()] for i in range(m)]\n",
    "\n",
    "c_m,c_n = [int(i) for i in input().split()]\n",
    "\n",
    "\n",
    "for i in range(m):\n",
    "    a[i][c_m], a[i][c_n] = a[i][c_n], a[i][c_m]\n",
    "    \n",
    "for row in a:\n",
    "    print(' '.join(str(i) for i in row))"
   ]
  },
  {
   "cell_type": "code",
   "execution_count": null,
   "metadata": {},
   "outputs": [],
   "source": [
    "# «Scale a matrix»\n",
    "m, n = [int(i) for i in input().split()]\n",
    "\n",
    "a =[[int(j) for j in input().split()] for i in range(m)]\n",
    "\n",
    "number = int(input())\n",
    "\n",
    "\n",
    "    \n",
    "for row in a:\n",
    "    print(' '.join(str(i*number) for i in row))"
   ]
  },
  {
   "cell_type": "code",
   "execution_count": null,
   "metadata": {},
   "outputs": [],
   "source": [
    "# «Multiply two matrices»\n",
    "m, n, r = [int(i) for i in input().split()]\n",
    "a = [[int(j) for j in input().split()] for i in range(m)]\n",
    "b = [[int(j) for j in input().split()] for i in range(n)]\n",
    "\n",
    "for i in range(m):\n",
    "    for k in range(r):\n",
    "        x = 0;\n",
    "        for j in range(n):\n",
    "            x += a[i][j] * b[j][k]\n",
    "        print(x, end=' ')\n",
    "    print()"
   ]
  },
  {
   "cell_type": "code",
   "execution_count": null,
   "metadata": {},
   "outputs": [],
   "source": []
  }
 ],
 "metadata": {
  "kernelspec": {
   "display_name": "Python 3",
   "language": "python",
   "name": "python3"
  },
  "language_info": {
   "codemirror_mode": {
    "name": "ipython",
    "version": 3
   },
   "file_extension": ".py",
   "mimetype": "text/x-python",
   "name": "python",
   "nbconvert_exporter": "python",
   "pygments_lexer": "ipython3",
   "version": "3.8.3"
  }
 },
 "nbformat": 4,
 "nbformat_minor": 4
}
