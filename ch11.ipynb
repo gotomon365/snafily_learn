{
 "cells": [
  {
   "cell_type": "code",
   "execution_count": null,
   "metadata": {},
   "outputs": [],
   "source": [
    "# «Number of occurrences»\n",
    "target = dict()\n",
    "a = [ i for i in input().split()]\n",
    "\n",
    "for i in a:\n",
    "    if i in target: \n",
    "        target[i] += 1\n",
    "    else:\n",
    "        target[i] = 0\n",
    "        \n",
    "    print(target[i], end =' ')\n"
   ]
  },
  {
   "cell_type": "code",
   "execution_count": null,
   "metadata": {},
   "outputs": [],
   "source": [
    "# «Dictionary of synonyms»\n",
    "n = int(input())\n",
    "d = dict()\n",
    "d2 = dict()\n",
    "for i in range(n):\n",
    "    key, value = input().split()\n",
    "    d[key] = value\n",
    "    d[value] = key\n",
    "s = input()\n",
    "\n",
    "if s in d.keys():\n",
    "    print(d[s])\n",
    "if s in d2.keys():\n",
    "    print(d2[s])"
   ]
  },
  {
   "cell_type": "code",
   "execution_count": null,
   "metadata": {},
   "outputs": [],
   "source": [
    "# «Elections in the USA»\n",
    "n = int(input())\n",
    "d = dict()\n",
    "for i in range(n):\n",
    "    key, value = input().split()\n",
    "    if key in d.keys():\n",
    "        d[key] += int(value)\n",
    "    else:\n",
    "        d[key] = int(value)\n",
    "\n",
    "\n",
    "for key, value in sorted(d.items()):\n",
    "    print(key, d[key])"
   ]
  }
 ],
 "metadata": {
  "kernelspec": {
   "display_name": "Python 3",
   "language": "python",
   "name": "python3"
  },
  "language_info": {
   "codemirror_mode": {
    "name": "ipython",
    "version": 3
   },
   "file_extension": ".py",
   "mimetype": "text/x-python",
   "name": "python",
   "nbconvert_exporter": "python",
   "pygments_lexer": "ipython3",
   "version": "3.8.3"
  }
 },
 "nbformat": 4,
 "nbformat_minor": 4
}
